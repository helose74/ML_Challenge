{
 "cells": [
  {
   "cell_type": "markdown",
   "metadata": {},
   "source": [
    "# 머신러닝 챌런지 평가지"
   ]
  },
  {
   "cell_type": "markdown",
   "metadata": {},
   "source": [
    "#### - 머신러닝 챌런지 목표 \n",
    "1. 실습내용을 바탕으로 새로운 인공지능 모델 학습 및 평가를 통해 최적의 hyper-parameter 찾기(Grid search)\n",
    "2. 평가 데이터에 대해 진단결과를 출력할 수 있도록 코드를 작성\n",
    "\n",
    "#### - 데이터 설명\n",
    ": 로봇 스폿용접 정상과 고장 데이터 (실습 데이터와 센서 종류와 데이터 크기는 동일하고 시간열만 제거한 데이터)\n",
    "- Normal Data    : 정상조건에서 수집한 센서 데이터 (실습데이터와 같은 조건이지만 다른 데이터)\n",
    "- Abnormal1 Data : 전극 팁 마모 조건에서 수집한 센서 데이터 (실습데이터와 같은 조건이지만 다른 데이터)\n",
    "- Abnormal2 Data : 전극 비정렬 조건에서 수집한 센서 데이터"
   ]
  },
  {
   "cell_type": "markdown",
   "metadata": {},
   "source": [
    ". \n",
    "\n",
    ". \n",
    "\n",
    "."
   ]
  },
  {
   "cell_type": "markdown",
   "metadata": {},
   "source": [
    "## 머신러닝 챌런지 수행 단계 가이드\n",
    "\n",
    "\n",
    "#### (1) 주어진 데이터를 사용해 직접 특징 추출/선택 및 머신러닝을 수행\n",
    "\n",
    "- 데이터 전처리 과정부터 모델 학습 및 평가하는 코드까지 하나의 코드 파일로 작성 후 제출\n",
    "\n",
    "\n",
    "- 학습용 데이터 : Train_Data 폴더 내 \"Normal_1 ~ 180\", \"Abnormal1_1 ~ 180\", \"Abnormal2_1 ~ 180\" 총 540개 파일\n",
    "\n",
    "\n",
    "- 평가용 데이터 : Test_Data 폴더 내 \"Normal_1 ~ 20\", \"Abnormal1_1 ~ 20\", \"Abnormal2_1 ~ 20\" 총 60개 파일\n",
    "\n",
    "\n",
    "- 어떤 특징을 사용 및 상위 몇 개의 특징을 선택할지는 자유롭게 결정\n",
    "\n",
    "\n",
    "- 특징 선택 방법은 t-Test가 아닌 ANOVA를 이용\n",
    "#### > Tip! ANOVA 라이브러리 import 코드 : <font color=red>'from scipy.stats import f_oneway'</font>\n",
    "\n",
    "\n",
    "- P_value_Rank는 제공된 \"Data\" 폴더 내 저장\n",
    "\n",
    "\n",
    "- 머신러닝을 위한 학습 및 평가데이터 레이블(Label)은 직접 만들어 사용(평가데이터 레이블은 제공된 \"Data\" 폴더 안에 저장!)\n",
    "\n",
    "\n",
    "- ANN을 이용한 <font color=red>3가지 Class(정상/고장1/고장2)</font>를 진단하는 모델 설계\n",
    "\n",
    "\n",
    "- ANN 구조 설계에 제한은 두지 않으나 <font color=red>iteration은 300으로 고정, 뉴런 수는 4/8/16, learningRate는 0.01/0.005/0.001</font>로 바꿔가며 총 <font color=red>9개의 모델 학습</font>\n",
    "\n",
    "\n",
    "- 학습된 모델은 검증을 하지 않고 주어진 평가용 데이터를 통해 정확도 측정\n",
    "\n",
    "\n",
    "- <font color=red>9개의 모델을 모두 학습 및 평가하는 셀을 각각 만들기 (Markdown cell을 이용해 model1, model2 등 명시)</font>\n",
    "\n",
    "\n",
    "- <font color=red>[필수]</font> 진단 정확도가 가장 높은 머신러닝 모델은 제공된 \"Data\" 폴더 안에 저장! (모델의 파일이름은 양식 따로 없음)\n",
    "\n",
    "\n",
    "- 저장이 완료된 코드 파일은 상단 메뉴에서 'Kernel' > 'Restart & Clear Output' 수행 후 코드를 재실행하고 제출\n",
    "#### > 학습코드 파일명 : <font color=blue>ML_Train_ST(수강생 번호) (예시 : 'ML_Train_ST0.ipynb' // 'ML_Train_ST00.ipynb')</font>\n",
    "\n",
    "\n",
    "- [예시이미지 참조] 각 모델 진단 정확도를 DataFrame으로 정리해서 캡처 후 이미지 파일로 제출\n",
    "\n",
    "  (정확도는 소수 둘째자리까지 표시, 이미지 파일 확장자는 jpg 또는 png)\n",
    "#### > 이미지 파일명 : <font color=blue>ANN_Result_ST(수강생 번호) (예시 : 'ANN_Result_ST0.jpg' // 'ANN_Result_ST00.png')</font>\n",
    "#### * Tip! DataFrame의 index 변경 방법 검색\n",
    "\n",
    "\n",
    "\n",
    "#### (2) 학습완료 후 현재 코드파일에서 \"저장된 머신러닝 모델 파일\" 및 \"평가 데이터+레이블\" 불러와서 진단 결과 출력하도록 코드 작성\n",
    "- 코드 작성이 완료되면 'Kernel > Restart & Clear Output' 수행 후 저장하고 제출\n",
    "#### > 해당 파일명 : <font color=blue>ML_Challenge_ST(수강생 번호) (예시 : 'ML_Challenge_ST0.ipynb' // 'ML_Challenge_ST00.ipynb')</font>\n",
    "\n",
    "\n",
    "#### (3) 학습 코드 파일(.ipynb), 현재 코드파일(.ipynb), 모델 진단 정확도 이미지 파일 및 \"Data\" 폴더 함께 1개 압축파일(.zip)로 만들어 제출\n",
    "- 압축파일 이름 ST(수강생 번호)_ML (예시 : 'ST00_ML.zip'  //  'ST0_ML.zip')"
   ]
  },
  {
   "cell_type": "markdown",
   "metadata": {},
   "source": [
    ".\n",
    "\n",
    ".\n",
    "\n",
    ".\n",
    "\n"
   ]
  },
  {
   "cell_type": "markdown",
   "metadata": {},
   "source": [
    "### 필요한 라이브러리 import\n",
    "- numpy, pandas 등 필요한 라이브러리들 불러오기"
   ]
  },
  {
   "cell_type": "code",
   "execution_count": null,
   "metadata": {},
   "outputs": [],
   "source": [
    "import pandas            as pd\n",
    "import numpy             as np\n",
    "import seaborn           as sb\n",
    "import scipy.stats       as sp\n",
    "import matplotlib.pyplot as plt\n",
    "import tensorflow        as tf\n",
    "import pywt\n",
    "from tensorflow import keras\n",
    "from tensorflow.keras import layers"
   ]
  },
  {
   "cell_type": "markdown",
   "metadata": {},
   "source": [
    "### 학습완료된 머신러닝 모델 불러오기\n",
    "- 진단 정확도가 가장 높은 머신러닝 모델 불러오기 "
   ]
  },
  {
   "cell_type": "code",
   "execution_count": null,
   "metadata": {},
   "outputs": [],
   "source": [
    "BestModel = keras.models.load_model(\"./Data/ANN_Bestmodel.h5\")"
   ]
  },
  {
   "cell_type": "markdown",
   "metadata": {},
   "source": [
    "### 평가 데이터 & 레이블 불러오기"
   ]
  },
  {
   "cell_type": "code",
   "execution_count": null,
   "metadata": {},
   "outputs": [],
   "source": [
    "NoOfTestData    = 20\n",
    "NoOfSensor  = 3    # 가속도(Acceleration), 전압(Voltage), 전류(Current)\n",
    "NoOfFeature = 10   # 특징 개수:10개 (순서: Max, Min, Mean, RMS, Variance, Skewness, Kurtosis, Crest factor, Impulse factor, Shape factor)\n",
    "\n",
    "TimeFeatureTest_Normal   = np.zeros((NoOfSensor*NoOfFeature , NoOfTestData))\n",
    "TimeFeatureTest_Abnormal1 = np.zeros((NoOfSensor*NoOfFeature , NoOfTestData))\n",
    "TimeFeatureTest_Abnormal2 = np.zeros((NoOfSensor*NoOfFeature , NoOfTestData))\n",
    "\n",
    "for i in range(NoOfTestData):\n",
    "    \n",
    "    # 데이터 불러오기\n",
    "    temp_test_path1 = './Test_Data/Normal_%d'%(i+1)   # Normal 데이터 파일 경로\n",
    "    temp_test_path2 = './Test_Data/Abnormal1_%d'%(i+1) # Abnormal1 데이터 파일 경로\n",
    "    temp_test_path3 = './Test_Data/Abnormal2_%d'%(i+1) # Abnormal2 데이터 파일 경로\n",
    "    temp_test_data1 = pd.read_csv(temp_test_path1 , sep=',' , header=None) # 임시 Normal 데이터\n",
    "    temp_test_data2 = pd.read_csv(temp_test_path2 , sep=',' , header=None) # 임시 Abnormal 데이터\n",
    "    temp_test_data3 = pd.read_csv(temp_test_path3 , sep=',' , header=None) # 임시 Abnormal 데이터\n",
    "    \n",
    "    \n",
    "Test_Label_forANN = np.array(pd.read_csv('./Data/Test_Label_forANN', sep=\",\", header=None))"
   ]
  },
  {
   "cell_type": "markdown",
   "metadata": {},
   "source": [
    ".\n",
    "\n",
    ".\n",
    "\n",
    ".\n",
    "\n"
   ]
  },
  {
   "cell_type": "markdown",
   "metadata": {},
   "source": [
    "### 데이터 특징 추출\n",
    "* 학습에 사용된 데이터 특징과 동일하게 추출 (순서도 동일)"
   ]
  },
  {
   "cell_type": "code",
   "execution_count": null,
   "metadata": {},
   "outputs": [],
   "source": [
    "def rms(x): # RMS 함수 정의\n",
    "    return np.sqrt(np.mean(x**2))"
   ]
  },
  {
   "cell_type": "code",
   "execution_count": null,
   "metadata": {},
   "outputs": [],
   "source": [
    "NoOfTestData    = 20\n",
    "NoOfSensor  = 3    # 가속도(Acceleration), 전압(Voltage), 전류(Current)\n",
    "NoOfFeature = 10   # 특징 개수:10개 (순서: Max, Min, Mean, RMS, Variance, Skewness, Kurtosis, Crest factor, Impulse factor, Shape factor)\n",
    "\n",
    "TimeFeatureTest_Normal   = np.zeros((NoOfSensor*NoOfFeature , NoOfTestData))\n",
    "TimeFeatureTest_Abnormal1 = np.zeros((NoOfSensor*NoOfFeature , NoOfTestData))\n",
    "TimeFeatureTest_Abnormal2 = np.zeros((NoOfSensor*NoOfFeature , NoOfTestData))\n",
    "\n",
    "for i in range(NoOfTestData):\n",
    "    \n",
    "    # Time Domain 특징값 추출\n",
    "    for j in range(NoOfSensor):\n",
    "        \n",
    "        # Normal Time Domain Feature\n",
    "        TimeFeatureTest_Normal[10*j+0, i] = np.max(temp_test_data1.iloc[:,j])\n",
    "        TimeFeatureTest_Normal[10*j+1, i] = np.min(temp_test_data1.iloc[:,j])\n",
    "        TimeFeatureTest_Normal[10*j+2, i] = np.mean(temp_test_data1.iloc[:,j])\n",
    "        TimeFeatureTest_Normal[10*j+3, i] = rms(temp_test_data1.iloc[:,j])\n",
    "        TimeFeatureTest_Normal[10*j+4, i] = np.var(temp_test_data1.iloc[:,j])\n",
    "        TimeFeatureTest_Normal[10*j+5, i] = sp.skew(temp_test_data1.iloc[:,j])\n",
    "        TimeFeatureTest_Normal[10*j+6, i] = sp.kurtosis(temp_test_data1.iloc[:,j])\n",
    "        TimeFeatureTest_Normal[10*j+7, i] = np.max(temp_test_data1.iloc[:,j])/rms(temp_test_data1.iloc[:,j])\n",
    "        TimeFeatureTest_Normal[10*j+8, i] = rms(temp_test_data1.iloc[:,j])/np.mean(temp_test_data1.iloc[:,j])\n",
    "        TimeFeatureTest_Normal[10*j+9, i] = np.max(temp_test_data1.iloc[:,j])/np.mean(temp_test_data1.iloc[:,j])\n",
    "        \n",
    "        # Abnormal1 Time Domain Feature\n",
    "        TimeFeatureTest_Abnormal1[10*j+0, i] = np.max(temp_test_data2.iloc[:,j])\n",
    "        TimeFeatureTest_Abnormal1[10*j+1, i] = np.min(temp_test_data2.iloc[:,j])\n",
    "        TimeFeatureTest_Abnormal1[10*j+2, i] = np.mean(temp_test_data2.iloc[:,j])\n",
    "        TimeFeatureTest_Abnormal1[10*j+3, i] = rms(temp_test_data2.iloc[:,j])\n",
    "        TimeFeatureTest_Abnormal1[10*j+4, i] = np.var(temp_test_data2.iloc[:,j])\n",
    "        TimeFeatureTest_Abnormal1[10*j+5, i] = sp.skew(temp_test_data2.iloc[:,j])\n",
    "        TimeFeatureTest_Abnormal1[10*j+6, i] = sp.kurtosis(temp_test_data2.iloc[:,j])\n",
    "        TimeFeatureTest_Abnormal1[10*j+7, i] = np.max(temp_test_data2.iloc[:,j])/rms(temp_test_data2.iloc[:,j])\n",
    "        TimeFeatureTest_Abnormal1[10*j+8, i] = rms(temp_test_data2.iloc[:,j])/np.mean(temp_test_data2.iloc[:,j])\n",
    "        TimeFeatureTest_Abnormal1[10*j+9, i] = np.max(temp_test_data2.iloc[:,j])/np.mean(temp_test_data2.iloc[:,j])\n",
    "        \n",
    "        # Abnormal2 Time Domain Feature\n",
    "        TimeFeatureTest_Abnormal2[10*j+0, i] = np.max(temp_test_data2.iloc[:,j])\n",
    "        TimeFeatureTest_Abnormal2[10*j+1, i] = np.min(temp_test_data2.iloc[:,j])\n",
    "        TimeFeatureTest_Abnormal2[10*j+2, i] = np.mean(temp_test_data2.iloc[:,j])\n",
    "        TimeFeatureTest_Abnormal2[10*j+3, i] = rms(temp_test_data2.iloc[:,j])\n",
    "        TimeFeatureTest_Abnormal2[10*j+4, i] = np.var(temp_test_data2.iloc[:,j])\n",
    "        TimeFeatureTest_Abnormal2[10*j+5, i] = sp.skew(temp_test_data2.iloc[:,j])\n",
    "        TimeFeatureTest_Abnormal2[10*j+6, i] = sp.kurtosis(temp_test_data2.iloc[:,j])\n",
    "        TimeFeatureTest_Abnormal2[10*j+7, i] = np.max(temp_test_data2.iloc[:,j])/rms(temp_test_data2.iloc[:,j])\n",
    "        TimeFeatureTest_Abnormal2[10*j+8, i] = rms(temp_test_data2.iloc[:,j])/np.mean(temp_test_data2.iloc[:,j])\n",
    "        TimeFeatureTest_Abnormal2[10*j+9, i] = np.max(temp_test_data2.iloc[:,j])/np.mean(temp_test_data2.iloc[:,j])\n",
    "        \n",
    "print(TimeFeatureTest_Normal.shape)\n",
    "print(TimeFeatureTest_Abnormal1.shape)\n",
    "print(TimeFeatureTest_Abnormal2.shape)"
   ]
  },
  {
   "cell_type": "code",
   "execution_count": null,
   "metadata": {},
   "outputs": [],
   "source": [
    "# Wavelet options\n",
    "\n",
    "MotherWavelet = pywt.Wavelet('haar')   # Mother wavelet (모함수) 지정\n",
    "Level   = 8                            # Wavelet 분해 레벨 지정\n",
    "select  = 8                            # 특징추출 영역 고주파 영역부터 개수 지정 (d1~)"
   ]
  },
  {
   "cell_type": "code",
   "execution_count": null,
   "metadata": {},
   "outputs": [],
   "source": [
    "#Frequency Domain 특징값 추출 (Wavelet Transform 기반)\n",
    "FreqFeatureTest_Normal   = np.zeros(shape=(NoOfSensor*NoOfFeature*select , NoOfTestData))\n",
    "FreqFeatureTest_Abnormal1 = np.zeros(shape=(NoOfSensor*NoOfFeature*select , NoOfTestData))\n",
    "FreqFeatureTest_Abnormal2 = np.zeros(shape=(NoOfSensor*NoOfFeature*select , NoOfTestData))\n",
    "\n",
    "for i in range(NoOfTestData):\n",
    "    \n",
    "    # 데이터 불러오기\n",
    "    temp_test_path1 = './Test_Data/Normal_%d'%(i+1)   # Normal 데이터 파일 경로\n",
    "    temp_test_path2 = './Test_Data/Abnormal1_%d'%(i+1) # Abnormal1 데이터 파일 경로\n",
    "    temp_test_path3 = './Test_Data/Abnormal2_%d'%(i+1) # Abnormal2 데이터 파일 경로\n",
    "    temp_test_data1 = pd.read_csv(temp_test_path1 , sep=',' , header=None) # 임시 Normal 데이터\n",
    "    temp_test_data2 = pd.read_csv(temp_test_path2 , sep=',' , header=None) # 임시 Abnormal1 데이터\n",
    "    temp_test_data3 = pd.read_csv(temp_test_path3 , sep=',' , header=None) # 임시 Abnormal2 데이터\n",
    "    Coef1      = pywt.wavedec(temp_test_data1, MotherWavelet, level=Level, axis=0)\n",
    "    Coef2      = pywt.wavedec(temp_test_data2, MotherWavelet, level=Level, axis=0)\n",
    "    Coef3      = pywt.wavedec(temp_test_data3, MotherWavelet, level=Level, axis=0)\n",
    "    \n",
    "    # Frequency Domain 특징값 추출\n",
    "    for j in range(NoOfSensor):\n",
    "        \n",
    "        for k in np.arange(select):\n",
    "            coef1 = Coef1[Level-k]\n",
    "            coef2 = Coef2[Level-k]\n",
    "            coef3 = Coef3[Level-k]\n",
    "            \n",
    "            # Normal Frequency Domain Feature\n",
    "            FreqFeatureTest_Normal[NoOfFeature*j*select+k*NoOfFeature+0 , i] = np.max(coef1[:,j])\n",
    "            FreqFeatureTest_Normal[NoOfFeature*j*select+k*NoOfFeature+1 , i] = np.min(coef1[:,j])\n",
    "            FreqFeatureTest_Normal[NoOfFeature*j*select+k*NoOfFeature+2 , i] = np.mean(coef1[:,j])\n",
    "            FreqFeatureTest_Normal[NoOfFeature*j*select+k*NoOfFeature+3 , i] = np.var(coef1[:,j])\n",
    "            FreqFeatureTest_Normal[NoOfFeature*j*select+k*NoOfFeature+4 , i] = rms(coef1[:,j])\n",
    "            FreqFeatureTest_Normal[NoOfFeature*j*select+k*NoOfFeature+5 , i] = sp.skew(coef1[:,j])\n",
    "            FreqFeatureTest_Normal[NoOfFeature*j*select+k*NoOfFeature+6 , i] = sp.kurtosis(coef1[:,j])\n",
    "            FreqFeatureTest_Normal[NoOfFeature*j*select+k*NoOfFeature+7 , i] = np.max(coef1[:,j])/rms(coef1[:,j])\n",
    "            FreqFeatureTest_Normal[NoOfFeature*j*select+k*NoOfFeature+8 , i] = rms(coef1[:,j])/np.mean(coef1[:,j])\n",
    "            FreqFeatureTest_Normal[NoOfFeature*j*select+k*NoOfFeature+9 , i] = np.max(coef1[:,j])/np.mean(coef1[:,j])\n",
    "            \n",
    "            # Abnormal1 Frequency Domain Feature\n",
    "            FreqFeatureTest_Abnormal1[NoOfFeature*j*select+k*NoOfFeature+0 , i] = np.max(coef2[:,j])\n",
    "            FreqFeatureTest_Abnormal1[NoOfFeature*j*select+k*NoOfFeature+1 , i] = np.min(coef2[:,j])\n",
    "            FreqFeatureTest_Abnormal1[NoOfFeature*j*select+k*NoOfFeature+2 , i] = np.mean(coef2[:,j])\n",
    "            FreqFeatureTest_Abnormal1[NoOfFeature*j*select+k*NoOfFeature+3 , i] = np.var(coef2[:,j])\n",
    "            FreqFeatureTest_Abnormal1[NoOfFeature*j*select+k*NoOfFeature+4 , i] = rms(coef2[:,j])\n",
    "            FreqFeatureTest_Abnormal1[NoOfFeature*j*select+k*NoOfFeature+5 , i] = sp.skew(coef2[:,j])\n",
    "            FreqFeatureTest_Abnormal1[NoOfFeature*j*select+k*NoOfFeature+6 , i] = sp.kurtosis(coef2[:,j])\n",
    "            FreqFeatureTest_Abnormal1[NoOfFeature*j*select+k*NoOfFeature+7 , i] = np.max(coef2[:,j])/rms(coef2[:,j])\n",
    "            FreqFeatureTest_Abnormal1[NoOfFeature*j*select+k*NoOfFeature+8 , i] = rms(coef2[:,j])/np.mean(coef2[:,j])\n",
    "            FreqFeatureTest_Abnormal1[NoOfFeature*j*select+k*NoOfFeature+9 , i] = np.max(coef2[:,j])/np.mean(coef2[:,j])\n",
    "            \n",
    "            # Abnormal2 Frequency Domain Feature\n",
    "            FreqFeatureTest_Abnormal2[NoOfFeature*j*select+k*NoOfFeature+0 , i] = np.max(coef3[:,j])\n",
    "            FreqFeatureTest_Abnormal2[NoOfFeature*j*select+k*NoOfFeature+1 , i] = np.min(coef3[:,j])\n",
    "            FreqFeatureTest_Abnormal2[NoOfFeature*j*select+k*NoOfFeature+2 , i] = np.mean(coef3[:,j])\n",
    "            FreqFeatureTest_Abnormal2[NoOfFeature*j*select+k*NoOfFeature+3 , i] = np.var(coef3[:,j])\n",
    "            FreqFeatureTest_Abnormal2[NoOfFeature*j*select+k*NoOfFeature+4 , i] = rms(coef3[:,j])\n",
    "            FreqFeatureTest_Abnormal2[NoOfFeature*j*select+k*NoOfFeature+5 , i] = sp.skew(coef3[:,j])\n",
    "            FreqFeatureTest_Abnormal2[NoOfFeature*j*select+k*NoOfFeature+6 , i] = sp.kurtosis(coef3[:,j])\n",
    "            FreqFeatureTest_Abnormal2[NoOfFeature*j*select+k*NoOfFeature+7 , i] = np.max(coef3[:,j])/rms(coef3[:,j])\n",
    "            FreqFeatureTest_Abnormal2[NoOfFeature*j*select+k*NoOfFeature+8 , i] = rms(coef3[:,j])/np.mean(coef3[:,j])\n",
    "            FreqFeatureTest_Abnormal2[NoOfFeature*j*select+k*NoOfFeature+9 , i] = np.max(coef3[:,j])/np.mean(coef3[:,j])\n",
    "\n",
    "print(FreqFeatureTest_Normal.shape)\n",
    "print(FreqFeatureTest_Abnormal1.shape)\n",
    "print(FreqFeatureTest_Abnormal2.shape)"
   ]
  },
  {
   "cell_type": "code",
   "execution_count": null,
   "metadata": {},
   "outputs": [],
   "source": [
    "Test_Normal = np.concatenate([TimeFeatureTest_Normal,FreqFeatureTest_Normal] , axis=0)\n",
    "Test_Abnormal1 = np.concatenate([TimeFeatureTest_Abnormal1,FreqFeatureTest_Abnormal1] , axis=0)\n",
    "Test_Abnormal2 = np.concatenate([TimeFeatureTest_Abnormal2,FreqFeatureTest_Abnormal2] , axis=0)\n",
    "Normal_TestData = pd.DataFrame(Test_Normal)\n",
    "Abnormal1_TestData = pd.DataFrame(Test_Abnormal1)\n",
    "Abnormal2_TestData = pd.DataFrame(Test_Abnormal2)"
   ]
  },
  {
   "cell_type": "markdown",
   "metadata": {},
   "source": [
    "### 데이터 특징 선택\n",
    "* 주의 : 평가 데이터로 별도의 ANOVA를 수행(P-value 계산)하지 말 것 >> 학습 과정에서 선택된 특징과 동일한 특징 선택 및 동일한 순서로 배열"
   ]
  },
  {
   "cell_type": "code",
   "execution_count": null,
   "metadata": {},
   "outputs": [],
   "source": [
    "P_value_Rank = pd.read_csv('./Data/P_value_Rank' , header=None)\n",
    "P_value_Rank"
   ]
  },
  {
   "cell_type": "code",
   "execution_count": null,
   "metadata": {},
   "outputs": [],
   "source": [
    "Number = 20\n",
    "\n",
    "Normal_SelectedTestFeatues   = np.zeros((Number,NoOfTestData))\n",
    "Abnormal1_SelectedTestFeatues = np.zeros((Number,NoOfTestData))\n",
    "Abnormal2_SelectedTestFeatues = np.zeros((Number,NoOfTestData))\n",
    "\n",
    "for i in range(Number):\n",
    "    \n",
    "    index         = int(P_value_Rank.iloc[i,0])\n",
    "    Normal_SelectedTestFeatues[i,:]   = Normal_TestData.iloc[index,:].values\n",
    "    Abnormal1_SelectedTestFeatues[i,:] = Abnormal1_TestData.iloc[index,:].values\n",
    "    Abnormal2_SelectedTestFeatues[i,:] = Abnormal2_TestData.iloc[index,:].values\n",
    "\n",
    "# 정상, 고장 특징값 합치기    \n",
    "TestFeatureSelected = pd.DataFrame(np.concatenate([Normal_SelectedTestFeatues, Abnormal1_SelectedTestFeatues, Abnormal2_SelectedTestFeatues] , axis=1))\n",
    "TestFeatureSelected.shape"
   ]
  },
  {
   "cell_type": "code",
   "execution_count": null,
   "metadata": {},
   "outputs": [],
   "source": [
    "Test_Data = pd.DataFrame(np.transpose(TestFeatureSelected))\n",
    "Test_Data.shape"
   ]
  },
  {
   "cell_type": "markdown",
   "metadata": {},
   "source": [
    ".\n",
    "\n",
    ".\n",
    "\n",
    ".\n",
    "\n"
   ]
  },
  {
   "cell_type": "markdown",
   "metadata": {},
   "source": [
    "### 평가 데이터의 진단 결과 출력 및 정확도 평가\n",
    "- 상기 불러온 평가 데이터 60개의 특징(선택된)데이터 및 레이블을 이용하여 머신러닝 모델의 정확도 평가"
   ]
  },
  {
   "cell_type": "code",
   "execution_count": null,
   "metadata": {},
   "outputs": [],
   "source": [
    "Data  = np.array(Test_Data)"
   ]
  },
  {
   "cell_type": "code",
   "execution_count": null,
   "metadata": {},
   "outputs": [],
   "source": [
    "Loss, Accuracy = BestModel.evaluate(Data, Test_Label_forANN, verbose=0)\n",
    "\n",
    "print('Accuracy : {:.2f}%'.format(Accuracy*100))"
   ]
  },
  {
   "cell_type": "code",
   "execution_count": null,
   "metadata": {},
   "outputs": [],
   "source": [
    "Predict_y = BestModel.predict(Data)\n",
    "pd.DataFrame(Predict_y)"
   ]
  },
  {
   "cell_type": "markdown",
   "metadata": {},
   "source": [
    ".\n",
    "\n",
    ".\n",
    "\n",
    ".\n",
    "\n"
   ]
  },
  {
   "cell_type": "markdown",
   "metadata": {},
   "source": [
    ".\n",
    "\n",
    ".\n",
    "\n",
    ".\n",
    "\n"
   ]
  },
  {
   "cell_type": "markdown",
   "metadata": {},
   "source": [
    "수고하셨습니다!"
   ]
  }
 ],
 "metadata": {
  "kernelspec": {
   "display_name": "Python 3",
   "language": "python",
   "name": "python3"
  },
  "language_info": {
   "codemirror_mode": {
    "name": "ipython",
    "version": 3
   },
   "file_extension": ".py",
   "mimetype": "text/x-python",
   "name": "python",
   "nbconvert_exporter": "python",
   "pygments_lexer": "ipython3",
   "version": "3.7.7"
  }
 },
 "nbformat": 4,
 "nbformat_minor": 4
}
